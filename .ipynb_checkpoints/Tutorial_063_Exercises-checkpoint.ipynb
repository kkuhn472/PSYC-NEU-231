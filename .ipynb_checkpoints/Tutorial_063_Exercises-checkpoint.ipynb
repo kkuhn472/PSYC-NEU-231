{
 "cells": [
  {
   "cell_type": "markdown",
   "metadata": {},
   "source": [
    "# In class exercises for 11.21.2018 (Filtering)"
   ]
  },
  {
   "cell_type": "markdown",
   "metadata": {},
   "source": [
    "## First import data from eeg_data00.npz"
   ]
  },
  {
   "cell_type": "code",
   "execution_count": 1,
   "metadata": {},
   "outputs": [],
   "source": [
    "# first import the modules that you'll need. \n",
    "import numpy as np\n",
    "import scipy.io as sio\n",
    "import matplotlib.pyplot as plt\n",
    "\n",
    "# import our sinc filter implementation function...\n",
    "import my_sinc_filt as msf\n",
    "\n",
    "# also define the default font we'll use for figures. \n",
    "fig_font = {'fontname':'Arial', 'size':'20'}"
   ]
  },
  {
   "cell_type": "markdown",
   "metadata": {},
   "source": [
    "## Just like in the first FFT tutorial load eeg_data00.npz so that we have an EEG data set to play with\n",
    "* you should find that it has three arrays: data, tx, and sr (with 'data' a #trials x # timepoints array containing the EEG data, the time of each data acquisition in tx, and the sample rate stored as sr).  "
   ]
  },
  {
   "cell_type": "code",
   "execution_count": 2,
   "metadata": {},
   "outputs": [
    {
     "name": "stdout",
     "output_type": "stream",
     "text": [
      "Shape of the big eeg data set:  (960, 876)\n",
      "Sample rate:  250\n"
     ]
    }
   ],
   "source": [
    "# load the data...\n",
    "eeg = np.load('eeg_data00.npz')\n",
    "\n",
    "# get the different arrays like this...kind of like a structure in matlab. \n",
    "eeg['data']\n",
    "eeg['sr']\n",
    "eeg['tx']\n",
    "\n",
    "# and can query the attributes of the data like this...which will tell us that there 960 trials and 876 timepoints per trial sampled\n",
    "# at 250Hz\n",
    "print('Shape of the big eeg data set: ', eeg['data'].shape)\n",
    "print('Sample rate: ', eeg['sr'])\n",
    "\n",
    "# and if you want to save some typing, especially because we only have a few variables, you reassign the different arrays like this\n",
    "data = eeg['data']\n",
    "sr = eeg['sr']\n",
    "tx = eeg['tx']\n",
    "# now you can just write data instead of eeg['data'] (and can for tx and sr as well...)"
   ]
  },
  {
   "cell_type": "markdown",
   "metadata": {},
   "source": [
    "## Extract the data from time 0 until time 2000\n",
    "* hint: you can use boolean indexing by selecting the columns from the 'data' matrix that meet: (tx>=0)  & (tx<2000)\n",
    "* while you're at it, go ahead and grab the timepoints corresponding to that interval as well"
   ]
  },
  {
   "cell_type": "code",
   "execution_count": null,
   "metadata": {
    "scrolled": true
   },
   "outputs": [],
   "source": [
    "seg_data = data[:,(tx>=0)  & (tx<2000)]\n",
    "seg_time = tx[(tx>=0) & (tx<2000)]"
   ]
  },
  {
   "cell_type": "markdown",
   "metadata": {},
   "source": [
    "## Then FFT each trial and take a look at the average power across frequencies\n",
    "* FFT each trial \n",
    "* Then compute the amplitude on each trial\n",
    "* Then compute the average amplitude across all trials"
   ]
  },
  {
   "cell_type": "code",
   "execution_count": null,
   "metadata": {},
   "outputs": [],
   "source": [
    "r,c = seg_data.shape\n",
    "\n",
    "sp = np.fft.rfft(seg_data, axis=1)                    # compute FFT\n",
    "\n",
    "# compute amplitude\n",
    "amp = (np.abs(sp) / c) *2\n",
    "\n",
    "mean_amp = np.mean(amp, axis=0)\n",
    "\n",
    "# get freq axis\n",
    "freq = np.fft.rfftfreq(c, 1/sr)   # Sample spacing is 2nd arg\n",
    "\n",
    "plt.plot(freq, mean_amp, 'b', linewidth=1)          # plot amplitude (power = np.absolute(sp)**2)\n",
    "\n",
    "plt.legend(['normalized fft'], loc='best', fancybox=1)  \n",
    "plt.xlabel('Frequency', **fig_font)\n",
    "plt.ylabel('Amplitude', **fig_font)\n",
    "plt.show()"
   ]
  },
  {
   "cell_type": "markdown",
   "metadata": {},
   "source": [
    "## Notice that there are two prominent features in the freq domain representation. Make a lp filter that gets rid of power > 20Hz (you'll know if it worked if you get rid of the spike at 60Hz)\n",
    "* Because our apply_filter function isn't optimized to work on matrices (we could do that, but haven't) you will need to loop and apply filter to each trial"
   ]
  },
  {
   "cell_type": "code",
   "execution_count": null,
   "metadata": {},
   "outputs": [],
   "source": [
    "fc=0.1\n",
    "b=0.1\n",
    "win = 'blackman'\n",
    "type_filt = 'lp'\n",
    "\n",
    "# make our function call to generate a lp filter\n",
    "n, sinc_func = msf.define_filt(fc=fc, b=b, window=win, type_filt=type_filt)\n",
    "\n",
    "# filter the signal\n",
    "filt_sig = np.zeros((r,c))\n",
    "for i in np.arange(r):\n",
    "    filt_sig[i,:] = msf.apply_filt(input_sig=seg_data[i,:], input_filter=sinc_func)"
   ]
  },
  {
   "cell_type": "markdown",
   "metadata": {},
   "source": [
    "## Then FFT it again to see if you got rid of the hf components of the signal"
   ]
  },
  {
   "cell_type": "code",
   "execution_count": null,
   "metadata": {},
   "outputs": [],
   "source": [
    "r,c = filt_sig.shape\n",
    "\n",
    "# compute FFT - all trials at once\n",
    "sp = np.fft.rfft(filt_sig, axis=1)                    \n",
    "\n",
    "# compute amplitude\n",
    "amp = (np.abs(sp) / c) * 2\n",
    "\n",
    "mean_amp = np.mean(amp, axis=0)\n",
    "\n",
    "# get freq axis\n",
    "freq = np.fft.rfftfreq(c, 1/sr)   # Sample spacing is 2nd arg\n",
    "\n",
    "plt.plot(freq, mean_amp, 'b', linewidth=1)          # plot amplitude (power = np.absolute(sp)**2)\n",
    "\n",
    "plt.legend(['normalized fft'], loc='best', fancybox=1)  \n",
    "plt.xlabel('Frequency', **fig_font)\n",
    "plt.ylabel('Amplitude', **fig_font)\n",
    "plt.show()"
   ]
  },
  {
   "cell_type": "markdown",
   "metadata": {},
   "source": [
    "## Now design a band pass filter that gets rid of everything outside of the 6-14Hz range (where that big bump is...)\n",
    "* To design a band pass filter, make a lp filter (with an appropriate fc), then make a hp filter (with an appropriate fc)\n",
    "* use np.convolve to combine the two filters \n",
    "* then call the apply_filt function\n",
    "* Then you should be left with only those frequencies that pass the lp and the hp filters (i.e. a band pass filter)!"
   ]
  },
  {
   "cell_type": "code",
   "execution_count": null,
   "metadata": {},
   "outputs": [],
   "source": [
    "# figure out our target fc given a desired band pass range\n",
    "bp_range = [6, 14]\n",
    "# convert from Hz to fc\n",
    "fcs = bp_range/sr  \n",
    "\n",
    "# build the low pass filter\n",
    "fc=fcs[0]\n",
    "b=0.1\n",
    "win = 'blackman'\n",
    "type_filt = 'lp'\n",
    "\n",
    "# make our function call to generate a lp filter\n",
    "n, sinc_func_lp = msf.define_filt(fc=fc, b=b, window=win, type_filt=type_filt)\n",
    "\n",
    "# now make the hp filter\n",
    "fc=fcs[1]\n",
    "b=0.1\n",
    "win = 'blackman'\n",
    "type_filt = 'hp'\n",
    "\n",
    "# make our function call to generate a hp filter\n",
    "n, sinc_func_hp = msf.define_filt(fc=fc, b=b, window=win, type_filt=type_filt)\n",
    "\n",
    "# now convolve the two filters\n",
    "bp_filt = np.convolve(sinc_func_lp,sinc_func_hp)\n",
    "plt.plot(bp_filt)\n",
    "\n",
    "# filter the signal\n",
    "filt_sig = np.zeros((r,c))\n",
    "for i in np.arange(r):\n",
    "    filt_sig[i,:] = msf.apply_filt(input_sig=seg_data[i,:], input_filter=bp_filt)"
   ]
  },
  {
   "cell_type": "markdown",
   "metadata": {},
   "source": [
    "## You can also make a band-stop filter using a similar logic\n",
    "* Instead of convolving the lp and the hp filters, you can add them together\n",
    "* Use this to selectively get rid of the 60Hz line noise in the data by generated a band-stop filter over 50-70Hz"
   ]
  },
  {
   "cell_type": "code",
   "execution_count": null,
   "metadata": {},
   "outputs": [],
   "source": []
  },
  {
   "cell_type": "markdown",
   "metadata": {},
   "source": [
    "## Then FFT and look at filtered signal in the frequency domain"
   ]
  }
 ],
 "metadata": {
  "kernelspec": {
   "display_name": "Python 3",
   "language": "python",
   "name": "python3"
  },
  "language_info": {
   "codemirror_mode": {
    "name": "ipython",
    "version": 3
   },
   "file_extension": ".py",
   "mimetype": "text/x-python",
   "name": "python",
   "nbconvert_exporter": "python",
   "pygments_lexer": "ipython3",
   "version": "3.6.5"
  }
 },
 "nbformat": 4,
 "nbformat_minor": 2
}
