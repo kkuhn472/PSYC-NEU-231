{
 "cells": [
  {
   "cell_type": "markdown",
   "metadata": {},
   "source": [
    "# Seaborn Exercises"
   ]
  },
  {
   "cell_type": "markdown",
   "metadata": {},
   "source": [
    "1) From the \"tips\" dataset\n",
    "    1. add a percentage tip column to the dataset\n",
    "    2. visualize the relationship between tip percentage, with day of week and time \n",
    "    3. visualize tip ~ day, time, and number of people (which function allows three variables independent variables at once?)\n"
   ]
  },
  {
   "cell_type": "code",
   "execution_count": 70,
   "metadata": {},
   "outputs": [
    {
     "ename": "SyntaxError",
     "evalue": "invalid syntax (<ipython-input-70-22fc4f14e125>, line 16)",
     "output_type": "error",
     "traceback": [
      "\u001b[1;36m  File \u001b[1;32m\"<ipython-input-70-22fc4f14e125>\"\u001b[1;36m, line \u001b[1;32m16\u001b[0m\n\u001b[1;33m    sns.catplot(x='number',y='percent',hue='who',col='day'data=tips,kind='point')\u001b[0m\n\u001b[1;37m                                                             ^\u001b[0m\n\u001b[1;31mSyntaxError\u001b[0m\u001b[1;31m:\u001b[0m invalid syntax\n"
     ]
    }
   ],
   "source": [
    "import seaborn as sns\n",
    "import matplotlib.pyplot as plt # not strictly necessary for most plotting applications\n",
    "import pandas as pd\n",
    "\n",
    "tips = sns.load_dataset('tips')\n",
    "\n",
    "percent = tips['tip'] / tips['total_bill']*100\n",
    "percent.head()\n",
    "percent = percent.to_frame('percent')\n",
    "pd.concat([tips,percent], axis=1)\n",
    "tips['percent'] = percent\n",
    "\n",
    "sns.pointplot(x='day',y='percent',data=tips,hue='time')\n",
    "plt.show()\n",
    "\n",
    "sns.catplot(x='number',y='percent',hue='who',col='day'data=tips,kind='point')\n",
    "plt.show()"
   ]
  },
  {
   "cell_type": "markdown",
   "metadata": {},
   "source": [
    "2) Find an interesting trend in the \"exercise\" dataset"
   ]
  },
  {
   "cell_type": "code",
   "execution_count": null,
   "metadata": {},
   "outputs": [],
   "source": []
  }
 ],
 "metadata": {
  "kernelspec": {
   "display_name": "Python 3",
   "language": "python",
   "name": "python3"
  },
  "language_info": {
   "codemirror_mode": {
    "name": "ipython",
    "version": 3
   },
   "file_extension": ".py",
   "mimetype": "text/x-python",
   "name": "python",
   "nbconvert_exporter": "python",
   "pygments_lexer": "ipython3",
   "version": "3.6.5"
  }
 },
 "nbformat": 4,
 "nbformat_minor": 2
}
