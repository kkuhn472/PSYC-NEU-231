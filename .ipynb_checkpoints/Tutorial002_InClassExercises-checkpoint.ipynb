{
 "cells": [
  {
   "cell_type": "markdown",
   "metadata": {},
   "source": [
    "# In class exercises for Tutorial00 intro to jupyter and python basics"
   ]
  },
  {
   "cell_type": "markdown",
   "metadata": {},
   "source": [
    "## Exercise 1\n",
    "1. Create a list (my_list) with values from 1 to 100\n",
    "1. Print every 4th value from 20 to 80\n",
    "1. Print the above sequence backwards\n",
    "1. Compute the sum of the above sequence (hint: there is a built in function 'sum')"
   ]
  },
  {
   "cell_type": "code",
   "execution_count": 14,
   "metadata": {},
   "outputs": [
    {
     "name": "stdout",
     "output_type": "stream",
     "text": [
      "[20, 24, 28, 32, 36, 40, 44, 48, 52, 56, 60, 64, 68, 72, 76, 80]\n",
      "[80, 76, 72, 68, 64, 60, 56, 52, 48, 44, 40, 36, 32, 28, 24, 20]\n"
     ]
    },
    {
     "data": {
      "text/plain": [
       "800"
      ]
     },
     "execution_count": 14,
     "metadata": {},
     "output_type": "execute_result"
    }
   ],
   "source": [
    "my_list = list(range(1,101))\n",
    "print(my_list[19:81:4])\n",
    "print(my_list[79:18:-4])\n",
    "sum(my_list[19:81:4])"
   ]
  },
  {
   "cell_type": "markdown",
   "metadata": {},
   "source": [
    "## Exercise 2\n",
    "Tuples are often used to pass values into functions. One nice feature is that their values can be passed to multiple variables at once, for example:\n",
    "\n",
    "my_tuple = ('A','B')\n",
    "\n",
    "a,b = my_tuple\n",
    "\n",
    "will set a and b to the ordered elements in my_tuple. \n",
    "\n",
    "What are a few different ways that you can make a new tuple that combine our Dr. Seuss themed tuples from earlier?\n",
    "1. By creating lots of temporary variables (messy)\n",
    "1. By using a for loop (less messy)\n",
    "1. By using a list (best?)\n",
    "\n",
    "We want one continuous tuple of strings, **not a tuple of tuples** as in the bad example below"
   ]
  },
  {
   "cell_type": "code",
   "execution_count": 22,
   "metadata": {},
   "outputs": [
    {
     "name": "stdout",
     "output_type": "stream",
     "text": [
      "((1, 'fish', 2, 'fish'), ('red', 'fish', 'blue', 'fish'))\n",
      "(1, 'fish', 2, 'fish', 'red', 'fish', 'blue', 'fish')\n"
     ]
    }
   ],
   "source": [
    "a_simple_tuple = (1,'fish',2,'fish')\n",
    "another_tuple = ('red','fish','blue','fish')\n",
    "bad_tuple = (a_simple_tuple,another_tuple)\n",
    "print(bad_tuple)\n",
    "\n",
    "bad_tuple = (*a_simple_tuple,*another_tuple)\n",
    "print(bad_tuple)"
   ]
  },
  {
   "cell_type": "code",
   "execution_count": 24,
   "metadata": {},
   "outputs": [
    {
     "name": "stdout",
     "output_type": "stream",
     "text": [
      "((1, 'fish', 2, 'fish'), ('red', 'fish', 'blue', 'fish'))\n",
      "(1, 'fish', 2, 'fish', 'red', 'fish', 'blue')\n"
     ]
    }
   ],
   "source": [
    "a_simple_tuple = (1,'fish',2,'fish')\n",
    "another_tuple = ('red','fish','blue','fish')\n",
    "\n",
    "# temporary variables\n",
    "a = a_simple_tuple[0]\n",
    "b = a_simple_tuple[1]\n",
    "c = a_simple_tuple[2]\n",
    "d = a_simple_tuple[3]\n",
    "\n",
    "e = another_tuple[0]\n",
    "f = another_tuple[1]\n",
    "g = another_tuple[2]\n",
    "h = another_tuple[3]\n",
    "\n",
    "good_tuple = (a, b, c, d, e ,f, g)\n",
    "print(good_tuple)"
   ]
  },
  {
   "cell_type": "code",
   "execution_count": 32,
   "metadata": {},
   "outputs": [
    {
     "name": "stdout",
     "output_type": "stream",
     "text": [
      "(1, 'fish', 2, 'fish', 'red', 'fish', 'blue', 'fish')\n"
     ]
    }
   ],
   "source": [
    "# for loops\n",
    "a_simple_tuple = (1,'fish',2,'fish')\n",
    "another_tuple = ('red','fish','blue','fish')\n",
    "\n",
    "loop_tuple = ()\n",
    "\n",
    "for i in a_simple_tuple:\n",
    "    loop_tuple = loop_tuple + (i,)\n",
    "    \n",
    "for i in another_tuple:\n",
    "    loop_tuple = loop_tuple + (i,)\n",
    "\n",
    "print (loop_tuple)"
   ]
  },
  {
   "cell_type": "code",
   "execution_count": 43,
   "metadata": {},
   "outputs": [
    {
     "name": "stdout",
     "output_type": "stream",
     "text": [
      "(1, 'fish', 2, 'fish', 'red', 'fish', 'blue', 'fish')\n",
      "(1, 'fish', 2, 'fish', 'red', 'fish', 'blue', 'fish')\n"
     ]
    }
   ],
   "source": [
    "# using lists\n",
    "a_simple_tuple = (1,'fish',2,'fish')\n",
    "another_tuple = ('red','fish','blue','fish')\n",
    "\n",
    "my_list = []\n",
    "my_list = a_simple_tuple[0:4]\n",
    "my_list += another_tuple[0:4]\n",
    "\n",
    "my_tuple = tuple(my_list)\n",
    "print(my_tuple)"
   ]
  },
  {
   "cell_type": "markdown",
   "metadata": {},
   "source": [
    "## Exercise 3\n",
    "Dictionaries are meant to be called by their keys. The order of a dictionary's keys is **not-predictable** (even though the above example seems to stay in the order we put time in... this is not dependable because a hash is used to link the keys and the items). You can access all values in a dictionary using the values command.\n",
    "1. Create a Tuple of UC Schools in order of enrollment size (this should be challenging as this is not how dictionaries are **typically** used\n",
    " *  To get things started we have a sorted list of school enrollement \n",
    " *  We can loop through each school-size and determine which school it is a match to\n",
    " *  This we can append to a new list (schools_bySize)\n",
    " *  We have started things off below...\n",
    "1. BONUS: have them print together nicely :)"
   ]
  },
  {
   "cell_type": "code",
   "execution_count": 50,
   "metadata": {},
   "outputs": [
    {
     "name": "stdout",
     "output_type": "stream",
     "text": [
      "List of campus enrollments: [30873, 29379, 29310, 28127, 27331, 21574, 19799, 16962, 6815, 0] \n",
      "\n",
      "List of Sorted Tuples\n",
      "[('Los Angeles', 30873), ('Davis', 29379), ('Berkeley', 29310), ('San Diego', 28127), ('Irvine', 27331), ('Santa Barbara', 21574), ('Riverside', 19799), ('Santa Cruz', 16962), ('Merced', 6815), ('San Francisco', 0)]\n"
     ]
    }
   ],
   "source": [
    "# Example from class\n",
    "# source: https://www.thoughtco.com/comparison-university-of-california-campuses-786974\n",
    "UC_Enrollment = {'Santa Barbara':21574,'Santa Cruz':16962,'Irvine': 27331,'Los Angeles':30873,\n",
    "                 'Merced':6815,'Riverside':19799,'San Diego':28127,'San Francisco':0,\n",
    "                 'Berkeley':29310,'Davis':29379}\n",
    "\n",
    "# Sorted list of school enrollment from UC Enrollment dictionary\n",
    "enrollment_size = []\n",
    "schools = UC_Enrollment.keys()\n",
    "\n",
    "for school in schools:\n",
    "    num_students = UC_Enrollment[school]\n",
    "    enrollment_size.append (num_students)\n",
    "\n",
    "enrollment_size_sorted = sorted(enrollment_size , reverse=True)\n",
    "print ('List of campus enrollments:' , enrollment_size_sorted, '\\n')\n",
    "\n",
    "\n",
    "# Taking list of sorted enrollments and matching it to dictionary\n",
    "# values. When matched, the tuple of school and enrollment size \n",
    "# is added to the list schools_bySize \n",
    "\n",
    "schools_bySize = []\n",
    "\n",
    "for school_size in enrollment_size_sorted:\n",
    "    if school_size in UC_Enrollment.values():\n",
    "        school_name = list(schools)[list(UC_Enrollment.values()).index(school_size)]\n",
    "        school_tuple = (school_name, UC_Enrollment[school_name])\n",
    "        schools_bySize.append (school_tuple)\n",
    "    else:\n",
    "        continue\n",
    "\n",
    "print('List of Sorted Tuples') \n",
    "print(schools_bySize)"
   ]
  },
  {
   "cell_type": "markdown",
   "metadata": {},
   "source": [
    "# Exercise 4\n",
    "\n",
    "Write a module (in a .py file) that takes a list of 2 numbers and sorts them from low to high using a if...elif...else statement. \n",
    "\n",
    "Also include another function that will take a longer list of numbers (say ~5) and that uses a 'for' loop to compute the product of all numbers in the array. \n",
    "\n",
    "Bonus - for the first function that sorts the two numbers, do some checking to make sure that the input is exactly two numerical values and return gracefully with a helpful message if not. "
   ]
  },
  {
   "cell_type": "code",
   "execution_count": 53,
   "metadata": {},
   "outputs": [
    {
     "name": "stdout",
     "output_type": "stream",
     "text": [
      "Overwriting sort_numbers.py\n"
     ]
    }
   ],
   "source": [
    "%%writefile sort_numbers.py\n",
    "\n",
    "def sort_numbers_low_high (list):\n",
    "    x = list[0]\n",
    "    y = list[1]\n",
    "    new_list = []\n",
    "    \n",
    "    if type(x) is int and if type(y) is int:\n",
    "        if x > y:\n",
    "            return [x,y]\n",
    "        else\n",
    "            return [y,x]\n",
    "    else\n",
    "        return 'Please enter an integer'\n",
    "    \n",
    "\n",
    "def multiply_list (list):\n",
    "    out = 1\n",
    "    for i in range(0,len(list)):\n",
    "        out = out * list[i]\n",
    "    return result\n",
    "    print(result)"
   ]
  }
 ],
 "metadata": {
  "kernelspec": {
   "display_name": "Python 3",
   "language": "python",
   "name": "python3"
  },
  "language_info": {
   "codemirror_mode": {
    "name": "ipython",
    "version": 3
   },
   "file_extension": ".py",
   "mimetype": "text/x-python",
   "name": "python",
   "nbconvert_exporter": "python",
   "pygments_lexer": "ipython3",
   "version": "3.6.5"
  }
 },
 "nbformat": 4,
 "nbformat_minor": 2
}
