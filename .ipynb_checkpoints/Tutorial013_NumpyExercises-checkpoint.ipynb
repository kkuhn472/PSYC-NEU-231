{
 "cells": [
  {
   "cell_type": "markdown",
   "metadata": {},
   "source": [
    "## EXERCISES\n",
    "\n",
    "### Vector Multiplication\n",
    "1. Produce 2 vectors, one with integers in the range [5,10] and the other [15,20] using the np.arange function\n",
    "1. Without using any functions from the numpy module\n",
    "    1. Compute the outer product of those vectors \n",
    "    1. Compute the \"trace\" of the resulting matrix\n",
    "    \n",
    "    ![trace](https://wikimedia.org/api/rest_v1/media/math/render/svg/3e5b6e82272fc5eeca6d510388e0a2bd0a6c6463)\n",
    "    \n",
    "    \n",
    "Complete the same items using numpy operations"
   ]
  },
  {
   "cell_type": "code",
   "execution_count": 9,
   "metadata": {},
   "outputs": [
    {
     "name": "stdout",
     "output_type": "stream",
     "text": [
      "outer product:  [[75, 80, 85, 90, 95, 100], [90, 96, 102, 108, 114, 120], [105, 112, 119, 126, 133, 140], [120, 128, 136, 144, 152, 160], [135, 144, 153, 162, 171, 180], [150, 160, 170, 180, 190, 200]]\n",
      "trace: 805\n",
      "outer product:  [[ 75  80  85  90  95 100]\n",
      " [ 90  96 102 108 114 120]\n",
      " [105 112 119 126 133 140]\n",
      " [120 128 136 144 152 160]\n",
      " [135 144 153 162 171 180]\n",
      " [150 160 170 180 190 200]]\n",
      "trace:  805\n"
     ]
    }
   ],
   "source": [
    "import numpy as np\n",
    "\n",
    "a = np.arange(5,11)\n",
    "b = np.arange(15,21)\n",
    "\n",
    "\n",
    "# without numpy\n",
    "# outer product\n",
    "outer_product = []\n",
    "\n",
    "for i in range (len(a)):\n",
    "    row = []\n",
    "    for j in range(len(b)):\n",
    "        row.append(a[i]*b[j])\n",
    "    \n",
    "    outer_product.append(row)\n",
    "    \n",
    "print(\"outer product: \", outer_product)\n",
    "\n",
    "\n",
    "# trace\n",
    "trace_list = []\n",
    "for i in range (len(outer_product)):\n",
    "    trace_value = outer_product[i][i]\n",
    "    trace_list.append(trace_value)\n",
    "\n",
    "print('trace:', sum(trace_list))\n",
    "\n",
    "\n",
    "# With numpy\n",
    "# outer product\n",
    "print('outer product: ', np.outer(a,b))\n",
    "\n",
    "# trace\n",
    "print('trace: ', np.trace(np.outer(a,b)))"
   ]
  },
  {
   "cell_type": "markdown",
   "metadata": {},
   "source": [
    "### Matrix Multiplication\n",
    "* Two matricies can be multiplied if their inner dimensions match (eg. 2x3 * 3x5 -> 2x5). The best rule for working with and mutliplying matricies is to remember (rows x columns). This applies to both the dimensions of a matrix (a 2x3 matrix has 2 rows and 3 columns) as well as multiplication (you multiply the rows of the first matrix by the columns of the second). \n",
    "\n",
    "* When multiplying two matricies of dimension (M x N)*(N x P) the resulting matrix is (M x P). The upper element of the reslting matrix is the inner (or dot) product of the first row of the first matrix and the first column of the second matrix\n",
    "\n",
    "![two matrices](https://wikimedia.org/api/rest_v1/media/math/render/svg/16b1644351bc2041175b19cbc65da03ef78130c7)\n",
    "\n",
    "![store product in matrix C](https://wikimedia.org/api/rest_v1/media/math/render/svg/00ac0c831c365b7424cc43239aae8cebea27c56c)\n",
    "\n",
    "![matrix multiply](https://wikimedia.org/api/rest_v1/media/math/render/svg/3cfeccef1c8c7e6da0ddf08daed8dbf3c6f50c5e)\n",
    "\n",
    "for i = 1, ..., n and j = 1, ..., p.\n",
    "\n",
    "1. Make two matrices of random numbers (A and B). A should be a 4x3 matrix and B should be a 3x4 matrix. Multiply A by B using (to a resulting matrix C) using:\n",
    "    1. a conventional for-loop\n",
    "    1. list comprehension\n",
    "    1. numpy operator\n",
    "    \n",
    "2. After you have C, pull out the upper quadrant using fancy indexing, and then replace the main diagonal (upper left to lower right) with 0s. "
   ]
  },
  {
   "cell_type": "code",
   "execution_count": 55,
   "metadata": {},
   "outputs": [
    {
     "name": "stdout",
     "output_type": "stream",
     "text": [
      "[[0.97857505 0.89811024 0.97384208]\n",
      " [0.5714586  0.66029931 0.31085512]\n",
      " [0.82074155 0.73928828 0.71221291]\n",
      " [0.65766323 0.76708666 0.67989357]]\n",
      "[[0.007548   0.2135029  0.7298444  0.64991681]\n",
      " [0.55668418 0.8071534  0.77907253 0.02604122]\n",
      " [0.81543425 0.49743427 0.45932951 0.76082151]]\n",
      "out:  [[1.30145423 1.41826376 1.86121493 1.40030026]\n",
      " [0.62537346 0.80960089 1.07428184 0.62510081]\n",
      " [0.99850785 1.12622886 1.50211322 1.0945326 ]\n",
      " [0.98639756 1.09777198 1.38990315 0.96467992]]\n",
      "out2:  [[1.3014542320501714, 1.4182637636455182, 1.8612149347251488, 1.4003002621543854], [0.6253734590950494, 0.8096008874281397, 1.07428183803502, 0.6251008087439822], [0.9985078508624274, 1.12622885656956, 1.5021132174813172, 1.094532604408081], [0.9863975583450085, 1.0977719768656844, 1.3899031533576798, 0.9646799178371737]]\n",
      "out3:  [[1.30145423 1.41826376 1.86121493 1.40030026]\n",
      " [0.62537346 0.80960089 1.07428184 0.62510081]\n",
      " [0.99850785 1.12622886 1.50211322 1.0945326 ]\n",
      " [0.98639756 1.09777198 1.38990315 0.96467992]]\n",
      "Upper quadrant:  [[1.86121493 1.40030026]\n",
      " [1.07428184 0.62510081]]\n"
     ]
    },
    {
     "data": {
      "text/plain": [
       "array([[0.        , 1.41826376, 1.86121493, 1.40030026],\n",
       "       [0.62537346, 0.        , 1.07428184, 0.62510081],\n",
       "       [0.99850785, 1.12622886, 0.        , 1.0945326 ],\n",
       "       [0.98639756, 1.09777198, 1.38990315, 0.        ]])"
      ]
     },
     "execution_count": 55,
     "metadata": {},
     "output_type": "execute_result"
    }
   ],
   "source": [
    "A = np.random.random(size=(4,3))\n",
    "B = np.random.random(size=(3,4))\n",
    "print(A)\n",
    "print(B)\n",
    "\n",
    "# for loop\n",
    "out = np.zeros((4,4))\n",
    "\n",
    "for i in range(len(A)):    \n",
    "    for j in range(len(B[0])):        \n",
    "        for k in range(len(B)):\n",
    "            out[i][j] += A[i][k] * B[k][j]    \n",
    "print('out: ', out)\n",
    "\n",
    "# list comprehension\n",
    "out2 = [[sum(a*b for a,b in zip(A_row,B_col)) for B_col in zip(*B)] for A_row in A]\n",
    "print('out2: ', out2)\n",
    "\n",
    "# with numpy\n",
    "out3 = np.matmul(A,B)\n",
    "print('out3: ', out3)\n",
    "\n",
    "\n",
    "\n",
    "# pull out upper quadrant\n",
    "quad = out3[:2,2:]\n",
    "print ('Upper quadrant: ', quad)\n",
    "\n",
    "# fill diagonals\n",
    "np.fill_diagonal(out3, 0)\n",
    "out3"
   ]
  }
 ],
 "metadata": {
  "kernelspec": {
   "display_name": "Python 3",
   "language": "python",
   "name": "python3"
  },
  "language_info": {
   "codemirror_mode": {
    "name": "ipython",
    "version": 3
   },
   "file_extension": ".py",
   "mimetype": "text/x-python",
   "name": "python",
   "nbconvert_exporter": "python",
   "pygments_lexer": "ipython3",
   "version": "3.6.5"
  }
 },
 "nbformat": 4,
 "nbformat_minor": 2
}
